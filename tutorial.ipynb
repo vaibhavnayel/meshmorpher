{
 "cells": [
  {
   "cell_type": "code",
   "execution_count": null,
   "metadata": {},
   "outputs": [
    {
     "name": "stdout",
     "output_type": "stream",
     "text": [
      "Warning: unable to import datasets/nusc:\n",
      "   No module named 'nuscenes'\n"
     ]
    }
   ],
   "source": [
    "import torch\n",
    "from torch import nn\n",
    "\n",
    "from tqdm.notebook import tqdm\n",
    "\n",
    "import numpy as np\n",
    "\n",
    "from kaolin.rep import TriangleMesh\n",
    "from kaolin.metrics.mesh import chamfer_distance,edge_length,point_to_surface\n",
    "\n",
    "import os\n",
    "\n",
    "import plotly.graph_objects as go\n",
    "import matplotlib.pyplot as plt\n",
    "\n"
   ]
  },
  {
   "cell_type": "code",
   "execution_count": null,
   "metadata": {},
   "outputs": [],
   "source": [
    "def get_model(file):\n",
    "    mesh = TriangleMesh.from_obj(f'{file}')\n",
    "    v,f= mesh.vertices,mesh.faces\n",
    "\n",
    "#     v = v - v.min(0)[0][None, :]\n",
    "#     v /= torch.abs(v).max()\n",
    "#     v *= 2\n",
    "#     v -= v.max(0)[0][None, :] / 2\n",
    "    \n",
    "    v = v.cuda()\n",
    "    f=f.cuda()\n",
    "    \n",
    "    mesh=TriangleMesh.from_tensors(v,f)\n",
    "    return mesh\n",
    "    \n",
    "    \n",
    "def plot_mesh(mesh):\n",
    "    v,f=mesh.vertices.detach().cpu().numpy(),mesh.faces.detach().cpu().numpy()\n",
    "    x,y,z=v[:,0],v[:,1],v[:,2]\n",
    "    i,j,k=f[:,0],f[:,1],f[:,2]\n",
    "    fig = go.Figure(data=[\n",
    "        go.Mesh3d(\n",
    "            x=x,\n",
    "            y=y,\n",
    "            z=z,\n",
    "            colorbar_title='z',\n",
    "            colorscale=[[0, 'gold'],\n",
    "                        [0.5, 'mediumturquoise'],\n",
    "                        [1, 'magenta']],\n",
    "            # Intensity of each vertex, which will be interpolated and color-coded\n",
    "            intensity = np.linspace(0, 1, len(x), endpoint=True),\n",
    "\n",
    "            i = i,\n",
    "            j = j,\n",
    "            k = k,\n",
    "            name='mesh',\n",
    "            showscale=False\n",
    "        )\n",
    "    ],\n",
    "                    layout=go.Layout(\n",
    "        scene = dict(xaxis = dict(nticks=4, range=[-0.5,0.5]),\n",
    "                     yaxis = dict(nticks=4, range=[-0.5,0.5]),\n",
    "                     zaxis = dict(nticks=4, range=[-0.5,0.5])\n",
    "                    )))\n",
    "\n",
    "    fig.show()"
   ]
  },
  {
   "cell_type": "code",
   "execution_count": null,
   "metadata": {},
   "outputs": [],
   "source": [
    "m1=get_model('car2.obj')\n",
    "m1.vertices.requires_grad=True\n",
    "m2=get_model('car1.obj')"
   ]
  },
  {
   "cell_type": "code",
   "execution_count": null,
   "metadata": {},
   "outputs": [],
   "source": [
    "plot_mesh(m1)\n",
    "plot_mesh(m2)\n"
   ]
  },
  {
   "cell_type": "code",
   "execution_count": null,
   "metadata": {},
   "outputs": [],
   "source": [
    "optimizer = torch.optim.Adam([m1.vertices],lr=0.01)\n",
    "\n",
    "loop = tqdm(range(15000))\n",
    "losses=[]\n",
    "\n",
    "for i in loop:\n",
    "\n",
    "    optimizer.zero_grad()\n",
    "    \n",
    "    loss=chamfer_distance(m1,m2,1,1,10000) + 10*edge_length(m1)\n",
    "    losses.append(loss.item())\n",
    "    loss.backward()\n",
    "    optimizer.step()\n",
    "    if i%1000==0:\n",
    "        plot_mesh(m1)\n",
    "    loop.set_description(f'loss:{losses[-1]}')\n",
    "\n",
    "plt.plot(losses)\n",
    "\n"
   ]
  },
  {
   "cell_type": "code",
   "execution_count": 8,
   "metadata": {},
   "outputs": [
    {
     "data": {
      "text/plain": [
       "(tensor([[-0.3763, -0.0782,  0.0452],\n",
       "         [ 0.3166, -0.1144, -0.1155],\n",
       "         [ 0.0957,  0.0448,  0.1361],\n",
       "         [-0.3459,  0.0068,  0.1563],\n",
       "         [-0.1247,  0.1003, -0.1088],\n",
       "         [ 0.2506, -0.0566, -0.1553],\n",
       "         [ 0.3904,  0.0028, -0.1034],\n",
       "         [ 0.0123,  0.1292, -0.0710],\n",
       "         [-0.2488, -0.0055, -0.1782],\n",
       "         [ 0.0906,  0.0441, -0.1616]], device='cuda:0', grad_fn=<AddBackward0>),\n",
       " tensor([36015, 70028, 25104, 15105, 35828, 71543, 30686, 23848,  4950, 24645],\n",
       "        device='cuda:0'))"
      ]
     },
     "execution_count": 8,
     "metadata": {},
     "output_type": "execute_result"
    }
   ],
   "source": [
    "m1.sample(10)"
   ]
  },
  {
   "cell_type": "code",
   "execution_count": null,
   "metadata": {},
   "outputs": [],
   "source": []
  }
 ],
 "metadata": {
  "environment": {
   "name": "pytorch-gpu.1-4.m46",
   "type": "gcloud",
   "uri": "gcr.io/deeplearning-platform-release/pytorch-gpu.1-4:m46"
  },
  "kernelspec": {
   "display_name": "Python 3",
   "language": "python",
   "name": "python3"
  },
  "language_info": {
   "codemirror_mode": {
    "name": "ipython",
    "version": 3
   },
   "file_extension": ".py",
   "mimetype": "text/x-python",
   "name": "python",
   "nbconvert_exporter": "python",
   "pygments_lexer": "ipython3",
   "version": "3.7.6"
  }
 },
 "nbformat": 4,
 "nbformat_minor": 4
}
